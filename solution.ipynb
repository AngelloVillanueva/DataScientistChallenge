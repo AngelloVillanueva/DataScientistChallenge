{
 "cells": [
  {
   "cell_type": "markdown",
   "id": "0229e1f3",
   "metadata": {},
   "source": [
    "# Librerías"
   ]
  },
  {
   "cell_type": "code",
   "execution_count": 267,
   "id": "382e1581",
   "metadata": {},
   "outputs": [],
   "source": [
    "# Librerias manipulación de datos\n",
    "import calendar\n",
    "import numpy as np\n",
    "import pandas as pd\n",
    "import requests\n",
    "import sys\n",
    "import os\n",
    "import time\n",
    "\n",
    "# Visualitation Modules \n",
    "import matplotlib.pyplot as plt\n",
    "import matplotlib.colors as mcolors\n",
    "import seaborn as sns\n",
    "from datetime import *\n",
    "\n",
    "# Estadística\n",
    "from scipy import stats\n",
    "import inspect\n",
    "from statsmodels.distributions.empirical_distribution import ECDF\n",
    "\n",
    "# Sklearn models\n",
    "from sklearn.model_selection import train_test_split\n",
    "from sklearn.metrics import accuracy_score\n",
    "\n",
    "pd.options.display.float_format = '{:,.2f}'.format"
   ]
  },
  {
   "cell_type": "markdown",
   "id": "15935794",
   "metadata": {},
   "source": [
    "# Carga de datos"
   ]
  },
  {
   "cell_type": "code",
   "execution_count": 268,
   "id": "43db0bd9",
   "metadata": {},
   "outputs": [
    {
     "data": {
      "text/plain": [
       "Fecha-I      datetime64[ns]\n",
       "Vlo-I                object\n",
       "Ori-I                string\n",
       "Des-I                string\n",
       "Emp-I                string\n",
       "Fecha-O      datetime64[ns]\n",
       "Vlo-O                object\n",
       "Ori-O                string\n",
       "Des-O                string\n",
       "Emp-O                string\n",
       "DIA                   Int64\n",
       "MES                   Int64\n",
       "AÑO                   Int64\n",
       "DIANOM               string\n",
       "TIPOVUELO          category\n",
       "OPERA                string\n",
       "SIGLAORI             string\n",
       "SIGLADES             string\n",
       "dtype: object"
      ]
     },
     "execution_count": 268,
     "metadata": {},
     "output_type": "execute_result"
    }
   ],
   "source": [
    "# Carga de datos\n",
    "data_csv = pd.read_csv('dataset_SCL.csv')\n",
    "\n",
    "# Se crea una copia de los datos para trabajar sobre ellos\n",
    "df = data_csv.copy(deep=True)\n",
    "df1 = data_csv.copy(deep=True)\n",
    "\n",
    "# Convertir tipos de datos de manera automática\n",
    "df = df.convert_dtypes()\n",
    "df1 = df1.convert_dtypes()\n",
    "\n",
    "# Se realiza el cambio manual con las columnas que no cambiaron\n",
    "df['Fecha-I'] = pd.to_datetime(df['Fecha-I'])\n",
    "df['Fecha-O'] = pd.to_datetime(df['Fecha-O'])\n",
    "df['TIPOVUELO'] = df['TIPOVUELO'].astype('category')\n",
    "\n",
    "df1['Fecha-I'] = pd.to_datetime(df1['Fecha-I'])\n",
    "df1['Fecha-O'] = pd.to_datetime(df1['Fecha-O'])\n",
    "df1['TIPOVUELO'] = df1['TIPOVUELO'].astype('category')\n",
    "\n",
    "# Se comprueba que el cambio se hizo correctamente\n",
    "df.dtypes"
   ]
  },
  {
   "cell_type": "code",
   "execution_count": 238,
   "id": "f4b900ce",
   "metadata": {},
   "outputs": [
    {
     "name": "stdout",
     "output_type": "stream",
     "text": [
      "<class 'pandas.core.frame.DataFrame'>\n",
      "RangeIndex: 68206 entries, 0 to 68205\n",
      "Data columns (total 18 columns):\n",
      " #   Column     Non-Null Count  Dtype         \n",
      "---  ------     --------------  -----         \n",
      " 0   Fecha-I    68206 non-null  datetime64[ns]\n",
      " 1   Vlo-I      68206 non-null  object        \n",
      " 2   Ori-I      68206 non-null  string        \n",
      " 3   Des-I      68206 non-null  string        \n",
      " 4   Emp-I      68206 non-null  string        \n",
      " 5   Fecha-O    68206 non-null  datetime64[ns]\n",
      " 6   Vlo-O      68205 non-null  object        \n",
      " 7   Ori-O      68206 non-null  string        \n",
      " 8   Des-O      68206 non-null  string        \n",
      " 9   Emp-O      68206 non-null  string        \n",
      " 10  DIA        68206 non-null  Int64         \n",
      " 11  MES        68206 non-null  Int64         \n",
      " 12  AÑO        68206 non-null  Int64         \n",
      " 13  DIANOM     68206 non-null  string        \n",
      " 14  TIPOVUELO  68206 non-null  category      \n",
      " 15  OPERA      68206 non-null  string        \n",
      " 16  SIGLAORI   68206 non-null  string        \n",
      " 17  SIGLADES   68206 non-null  string        \n",
      "dtypes: Int64(3), category(1), datetime64[ns](2), object(2), string(10)\n",
      "memory usage: 9.1+ MB\n"
     ]
    }
   ],
   "source": [
    "# Ver tipo de variables y nulos\n",
    "df.info()\n",
    "\n",
    "# Existe un datos nulo presente en la columna Vlo-O"
   ]
  },
  {
   "cell_type": "markdown",
   "id": "cd23abcb",
   "metadata": {},
   "source": [
    "# Respuestas"
   ]
  },
  {
   "cell_type": "markdown",
   "id": "7f9b66f7",
   "metadata": {},
   "source": [
    "### Creación de columna de Indicador de Atraso y otras\n",
    "- Antes de responder se generar una columna auxiliar que permita hacer un analisis sobre los atrasos\n",
    "- La siguiente columna sera creada para marcar aquellos vuelos que se atrasaron (1: Atraso, 0: No Atraso)\n",
    "- Esta columna es necesaria para conocer como se distribuyen los datos (pregunta 1)"
   ]
  },
  {
   "cell_type": "code",
   "execution_count": 239,
   "id": "ab282465",
   "metadata": {},
   "outputs": [],
   "source": [
    "# Creación de columna Indicador de atraso\n",
    "df.loc[df['Fecha-I'] < df['Fecha-O'], 'Ind_Atraso'] = 'Atrasado'\n",
    "df.loc[df['Fecha-I'] >= df['Fecha-O'], 'Ind_Atraso'] = 'No Atrasado'\n",
    "\n",
    "# Creación de columna dif_min\n",
    "df['dif_min'] = (df['Fecha-O'] - df['Fecha-I']).astype('timedelta64[m]')\n",
    "\n",
    "# Creación de columna Indicador de atraso\n",
    "df.loc[df['dif_min'] <= 15, 'atraso_15'] = 0\n",
    "df.loc[df['dif_min'] > 15, 'atraso_15'] = 1\n",
    "\n",
    "df['Ind_Atraso'] = df['Ind_Atraso'].astype('category')\n",
    "df['atraso_15'] = df['atraso_15'].astype('category')"
   ]
  },
  {
   "cell_type": "markdown",
   "id": "4a52109d",
   "metadata": {},
   "source": [
    "### Gráficos de distribución de datos"
   ]
  },
  {
   "cell_type": "code",
   "execution_count": 242,
   "id": "a77ef80d",
   "metadata": {},
   "outputs": [
    {
     "data": {
      "text/plain": [
       "<matplotlib.legend.Legend at 0x2a509975430>"
      ]
     },
     "execution_count": 242,
     "metadata": {},
     "output_type": "execute_result"
    },
    {
     "data": {
      "image/png": "[encoded data removed]",
      "text/plain": [
       "<Figure size 576x432 with 1 Axes>"
      ]
     },
     "metadata": {},
     "output_type": "display_data"
    }
   ],
   "source": [
    "# Seteo de fondo\n",
    "sns.set(style=\"white\",rc = {'figure.figsize':(12,8)})\n",
    "\n",
    "# Agrupación de campos a graficar\n",
    "df_ind = df.groupby(['MES','Ind_Atraso'])['Fecha-I'].count().reset_index()\n",
    "\n",
    "# Tabla pivote\n",
    "df_pind = df_ind.pivot_table(values='Fecha-I',index='MES',columns='Ind_Atraso')\n",
    "\n",
    "# Gráfico\n",
    "ax = df_pind.plot(kind='bar', stacked=True, figsize=(8, 6), rot=0, xlabel='Mes', ylabel='Ind_Atraso')\n",
    "ax.set_ylabel('Q vuelos con atraso')\n",
    "ax.set_title('Q Vuelos agrupados por Atraso')\n",
    "ax.legend(labels=['No Atraso','Atraso'])\n"
   ]
  },
  {
   "cell_type": "code",
   "execution_count": 265,
   "id": "b39f3023",
   "metadata": {},
   "outputs": [
    {
     "data": {
      "text/plain": [
       "<matplotlib.legend.Legend at 0x2a5026b9340>"
      ]
     },
     "execution_count": 265,
     "metadata": {},
     "output_type": "execute_result"
    },
    {
     "data": {
      "image/png": "[encoded data removed]",
      "text/plain": [
       "<Figure size 576x432 with 1 Axes>"
      ]
     },
     "metadata": {},
     "output_type": "display_data"
    }
   ],
   "source": [
    "# Agrupación de campos a graficar\n",
    "df_g = df_ind1.groupby(['MES','atraso_15'])['Fecha-I'].count().reset_index()\n",
    "\n",
    "# Tabla pivote\n",
    "df_pi = df_g.pivot_table(values='Fecha-I',index='MES',columns='atraso_15')\n",
    "\n",
    "# Gráfico\n",
    "ax = df_pi.plot(kind='bar', stacked=True, figsize=(8, 6), rot=0, xlabel='Mes', ylabel='atraso_15')\n",
    "ax.set_ylabel('Q vuelos con atraso 15 minutos')\n",
    "ax.set_title('Q Vuelos agrupados por Atraso > 15 min')\n",
    "ax.legend(labels=['No Atraso','Atraso'])"
   ]
  },
  {
   "cell_type": "code",
   "execution_count": 253,
   "id": "6790fc34",
   "metadata": {},
   "outputs": [
    {
     "data": {
      "text/html": [
       "<div>\n",
       "<style scoped>\n",
       "    .dataframe tbody tr th:only-of-type {\n",
       "        vertical-align: middle;\n",
       "    }\n",
       "\n",
       "    .dataframe tbody tr th {\n",
       "        vertical-align: top;\n",
       "    }\n",
       "\n",
       "    .dataframe thead th {\n",
       "        text-align: right;\n",
       "    }\n",
       "</style>\n",
       "<table border=\"1\" class=\"dataframe\">\n",
       "  <thead>\n",
       "    <tr style=\"text-align: right;\">\n",
       "      <th>atraso_15</th>\n",
       "      <th>0.0</th>\n",
       "      <th>1.0</th>\n",
       "      <th>porcentaje</th>\n",
       "    </tr>\n",
       "    <tr>\n",
       "      <th>MES</th>\n",
       "      <th></th>\n",
       "      <th></th>\n",
       "      <th></th>\n",
       "    </tr>\n",
       "  </thead>\n",
       "  <tbody>\n",
       "    <tr>\n",
       "      <th>1</th>\n",
       "      <td>3064</td>\n",
       "      <td>978</td>\n",
       "      <td>24.20</td>\n",
       "    </tr>\n",
       "    <tr>\n",
       "      <th>2</th>\n",
       "      <td>2785</td>\n",
       "      <td>843</td>\n",
       "      <td>23.24</td>\n",
       "    </tr>\n",
       "    <tr>\n",
       "      <th>3</th>\n",
       "      <td>2470</td>\n",
       "      <td>631</td>\n",
       "      <td>20.35</td>\n",
       "    </tr>\n",
       "    <tr>\n",
       "      <th>4</th>\n",
       "      <td>2389</td>\n",
       "      <td>585</td>\n",
       "      <td>19.67</td>\n",
       "    </tr>\n",
       "    <tr>\n",
       "      <th>5</th>\n",
       "      <td>2533</td>\n",
       "      <td>827</td>\n",
       "      <td>24.61</td>\n",
       "    </tr>\n",
       "    <tr>\n",
       "      <th>6</th>\n",
       "      <td>2378</td>\n",
       "      <td>852</td>\n",
       "      <td>26.38</td>\n",
       "    </tr>\n",
       "    <tr>\n",
       "      <th>7</th>\n",
       "      <td>2856</td>\n",
       "      <td>1758</td>\n",
       "      <td>38.10</td>\n",
       "    </tr>\n",
       "    <tr>\n",
       "      <th>8</th>\n",
       "      <td>2721</td>\n",
       "      <td>996</td>\n",
       "      <td>26.80</td>\n",
       "    </tr>\n",
       "    <tr>\n",
       "      <th>9</th>\n",
       "      <td>2654</td>\n",
       "      <td>967</td>\n",
       "      <td>26.71</td>\n",
       "    </tr>\n",
       "    <tr>\n",
       "      <th>10</th>\n",
       "      <td>2937</td>\n",
       "      <td>1363</td>\n",
       "      <td>31.70</td>\n",
       "    </tr>\n",
       "    <tr>\n",
       "      <th>11</th>\n",
       "      <td>3011</td>\n",
       "      <td>1199</td>\n",
       "      <td>28.48</td>\n",
       "    </tr>\n",
       "    <tr>\n",
       "      <th>12</th>\n",
       "      <td>3095</td>\n",
       "      <td>1615</td>\n",
       "      <td>34.29</td>\n",
       "    </tr>\n",
       "  </tbody>\n",
       "</table>\n",
       "</div>"
      ],
      "text/plain": [
       "atraso_15   0.0   1.0  porcentaje\n",
       "MES                              \n",
       "1          3064   978       24.20\n",
       "2          2785   843       23.24\n",
       "3          2470   631       20.35\n",
       "4          2389   585       19.67\n",
       "5          2533   827       24.61\n",
       "6          2378   852       26.38\n",
       "7          2856  1758       38.10\n",
       "8          2721   996       26.80\n",
       "9          2654   967       26.71\n",
       "10         2937  1363       31.70\n",
       "11         3011  1199       28.48\n",
       "12         3095  1615       34.29"
      ]
     },
     "execution_count": 253,
     "metadata": {},
     "output_type": "execute_result"
    }
   ],
   "source": [
    "df_pi['porcentaje'] = df_pi[1]/(df_pi[0] + df_pi[1])*100\n",
    "df_pi"
   ]
  },
  {
   "cell_type": "code",
   "execution_count": 251,
   "id": "7f8ec8fc",
   "metadata": {},
   "outputs": [
    {
     "data": {
      "text/plain": [
       "atraso_15\n",
       "0.0          2,741.08\n",
       "1.0          1,051.17\n",
       "porcentaje      27.04\n",
       "dtype: float64"
      ]
     },
     "execution_count": 251,
     "metadata": {},
     "output_type": "execute_result"
    }
   ],
   "source": [
    "df_pi.mean()"
   ]
  },
  {
   "cell_type": "code",
   "execution_count": 261,
   "id": "c026ac07",
   "metadata": {},
   "outputs": [
    {
     "name": "stderr",
     "output_type": "stream",
     "text": [
      "C:\\Users\\Angello\\AppData\\Local\\Temp/ipykernel_14008/649211887.py:2: FutureWarning: DataFrame.mean and DataFrame.median with numeric_only=None will include datetime64 and datetime64tz columns in a future version.\n",
      "  atr_15.mean()\n",
      "C:\\Users\\Angello\\AppData\\Local\\Temp/ipykernel_14008/649211887.py:2: FutureWarning: Dropping of nuisance columns in DataFrame reductions (with 'numeric_only=None') is deprecated; in a future version this will raise TypeError.  Select only valid columns before calling the reduction.\n",
      "  atr_15.mean()\n"
     ]
    },
    {
     "data": {
      "text/plain": [
       "DIA             15.67\n",
       "MES              7.24\n",
       "AÑO          2,017.00\n",
       "Ind_Atraso       1.00\n",
       "dif_min         38.48\n",
       "atraso_15        1.00\n",
       "dtype: float64"
      ]
     },
     "execution_count": 261,
     "metadata": {},
     "output_type": "execute_result"
    }
   ],
   "source": [
    "atr_15 = df_ind1[df_ind1['atraso_15']==1]\n",
    "atr_15.mean()"
   ]
  },
  {
   "cell_type": "code",
   "execution_count": 222,
   "id": "f93561ed",
   "metadata": {},
   "outputs": [
    {
     "data": {
      "image/png": "[encoded data removed]",
      "text/plain": [
       "<Figure size 864x576 with 1 Axes>"
      ]
     },
     "metadata": {},
     "output_type": "display_data"
    }
   ],
   "source": [
    "# Set nos permite dejar el fondo gris y cambiar el tamaño del gráfico\n",
    "sns.set(style=\"darkgrid\",rc = {'figure.figsize':(12,8)})\n",
    "\n",
    "#Generamos el histograma de la distribución de diferencias de tiempo\n",
    "sns.histplot(data=df, x=\"dif_min\", kde=True, bins=40).set(title='Distribución Diferencias de Tiempo')\n",
    "plt.show()"
   ]
  },
  {
   "cell_type": "markdown",
   "id": "76089920",
   "metadata": {},
   "source": [
    "### Respuesta 1\n",
    "¿Cómo se distribuyen los datos? ¿Qué te llama la atención o cuál es tu conclusión sobre esto?\n",
    "\n",
    "- Los datos son del año 2017 casi en su totalidad, hay 2 registros que corresponden al año 2018. Esto podrían ser imputados, pero para este analisis se ha decidido dejarlos.\n",
    "- El indicador de Atraso marca cuando una vuelo se pasa de la fecha y hora programada, independiente del tiempo que se atrasara. Con este indicador es posible ver la cantidad mensuela de atrasos.\n",
    "- El siguiente gráfico muestra los vuelos con mas de 15 minutos de atrasos distribuidos por meses, con esto podemos observar dos cosas: \n",
    "    1. Los meses con mayor cantidad de vuelos atrados en más de 15 minutos son Julio y Diciembre. \n",
    "    2. Los meses con mayor proporción de vuelos atrasado en mas de 15 minutos son Julio, Diciembre y Noviembre\n",
    "- Los vuelos tienen un atraso de 15 minutos en promedio si se toman todos los vuelos. El promedio aumenta a 38.48 minutos cuando se filtran solo los atrasados mas de 15 minutos.\n",
    "- La diferencia de tiempo se distribuye de manera muy parecida a una distribución log normal\n"
   ]
  },
  {
   "cell_type": "markdown",
   "id": "57d84e28",
   "metadata": {},
   "source": [
    "### Respuestas 2"
   ]
  },
  {
   "cell_type": "code",
   "execution_count": 293,
   "id": "e88e4099",
   "metadata": {
    "scrolled": false
   },
   "outputs": [],
   "source": [
    "df1# Creación de columna dif_min\n",
    "\n",
    "df1['daymonth'] = df1[\"Fecha-I\"].dt.strftime(\"%d/%m\")\n",
    "df1['hourminute'] = df1[\"Fecha-I\"].dt.strftime(\"%H:%M\")\n",
    "\n",
    "date1='15/12'\n",
    "date2='03/03'\n",
    "date3='15/07'\n",
    "date4='31/07'\n",
    "date5='11/09'\n",
    "date6='30/09'\n",
    "\n",
    "mask = (((df1['daymonth'] >= date1) & (df1['daymonth'] <= date2)) \n",
    "        | ((df1['daymonth'] >= date3) & (df1['daymonth'] <= date4)) \n",
    "        | ((df1['daymonth'] >= date5) & (df1['daymonth'] <= date6)))\n",
    "\n",
    "#Creación de columnas temporada alta\n",
    "df1.loc[mask, 'temporada_alta'] = 1\n",
    "df1['temporada_alta'] = df1['temporada_alta'].fillna(0)\n",
    "\n",
    "\n",
    "# Creación de columna dif_min\n",
    "df1['dif_min'] = (df1['Fecha-O'] - df1['Fecha-I']).astype('timedelta64[m]')\n",
    "\n",
    "# Creación de columna Indicador de atraso\n",
    "df1.loc[df1['dif_min'] <= 15, 'atraso_15'] = 0\n",
    "df1.loc[df1['dif_min'] > 15, 'atraso_15'] = 1\n",
    "\n",
    "# Creación de columna Indicador de atraso\n",
    "df1.loc[df1['dif_min'] <= 15, 'atraso_15'] = 0\n",
    "df1.loc[df1['dif_min'] > 15, 'atraso_15'] = 1\n",
    "\n",
    "# Creación de columna periodo dia\n",
    "hora1='5:00'\n",
    "hora2='11:59'\n",
    "hora3='18:59'\n",
    "hora4='4:59'\n",
    "\n",
    "df1.loc[(df1['hourminute'] >= hora1) & (df1['hourminute'] <= hora2), 'periodo_dia'] = 'mañana'\n",
    "df1.loc[(df1['hourminute'] > hora2) & (df1['hourminute'] <= hora3), 'periodo_dia'] = 'tarde'\n",
    "df1.loc[(df1['hourminute'] > hora3) & (df1['hourminute'] <= hora4), 'periodo_dia'] = 'noche'\n",
    "\n",
    "#Selección de las columnas\n",
    "df_syn = df1[['temporada_alta','dif_min','atraso_15','periodo_dia']]\n",
    "\n",
    "#Guardar datframe en CSV\n",
    "df_syn.to_csv('synthetic_features.csv', index=False)"
   ]
  },
  {
   "cell_type": "code",
   "execution_count": null,
   "id": "0e91a43f",
   "metadata": {},
   "outputs": [],
   "source": []
  }
 ],
 "metadata": {
  "kernelspec": {
   "display_name": "Python 3 (ipykernel)",
   "language": "python",
   "name": "python3"
  },
  "language_info": {
   "codemirror_mode": {
    "name": "ipython",
    "version": 3
   },
   "file_extension": ".py",
   "mimetype": "text/x-python",
   "name": "python",
   "nbconvert_exporter": "python",
   "pygments_lexer": "ipython3",
   "version": "3.9.7"
  }
 },
 "nbformat": 4,
 "nbformat_minor": 5
}
